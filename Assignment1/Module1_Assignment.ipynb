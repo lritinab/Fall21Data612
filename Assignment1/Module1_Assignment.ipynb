{
  "nbformat": 4,
  "nbformat_minor": 0,
  "metadata": {
    "colab": {
      "name": "Module1_Assignment.ipynb",
      "provenance": []
    },
    "kernelspec": {
      "name": "python3",
      "display_name": "Python 3"
    },
    "language_info": {
      "name": "python"
    }
  },
  "cells": [
    {
      "cell_type": "code",
      "metadata": {
        "id": "5yd_ElSjHFIy",
        "colab": {
          "base_uri": "https://localhost:8080/"
        },
        "outputId": "cd624bb7-b4c0-4ef2-cc2a-cdbf1221c2f5"
      },
      "source": [
        "#Propts the user to enter two numbers (integers arguments: num1 and num2) and adds the total of numbers in the range of two arguments\n",
        "def total():\n",
        "  running = True\n",
        "  numbers = 0\n",
        "\n",
        "  while running:\n",
        "    num1 = int(input('Enter the first number:'))\n",
        "    \n",
        "    num2 = int(input('Enter the second numer:'))\n",
        "\n",
        "    for i in range(num1, num2):\n",
        "      numbers = sum(range(num1, num2))+num2\n",
        "    else:\n",
        "      running = False\n",
        "    print('The total of the numbers in between is', numbers)\n",
        "\n",
        "\n",
        "total()"
      ],
      "execution_count": 211,
      "outputs": [
        {
          "output_type": "stream",
          "name": "stdout",
          "text": [
            "Enter the first number:1\n",
            "Enter the second numer:4\n",
            "The total of the numbers in between is 10\n"
          ]
        }
      ]
    },
    {
      "cell_type": "code",
      "metadata": {
        "colab": {
          "base_uri": "https://localhost:8080/"
        },
        "id": "PxcMQIMp0mz_",
        "outputId": "300e9263-e4bc-4c36-af91-2a341ded5c77"
      },
      "source": [
        "total()"
      ],
      "execution_count": 215,
      "outputs": [
        {
          "output_type": "stream",
          "name": "stdout",
          "text": [
            "Enter the first number:2\n",
            "Enter the second numer:2\n",
            "The total of the numbers in between is 0\n"
          ]
        }
      ]
    },
    {
      "cell_type": "code",
      "metadata": {
        "colab": {
          "base_uri": "https://localhost:8080/"
        },
        "id": "U8Jahz0S0x4o",
        "outputId": "35dc5652-648e-49ee-f6ae-f6f35f2d0480"
      },
      "source": [
        "total()"
      ],
      "execution_count": 216,
      "outputs": [
        {
          "output_type": "stream",
          "name": "stdout",
          "text": [
            "Enter the first number:3\n",
            "Enter the second numer:2\n",
            "The total of the numbers in between is 0\n"
          ]
        }
      ]
    },
    {
      "cell_type": "code",
      "metadata": {
        "colab": {
          "base_uri": "https://localhost:8080/"
        },
        "id": "vYVZQRPd1qjR",
        "outputId": "9eed6631-9430-4724-be2c-6d41067d2f72"
      },
      "source": [
        "total()"
      ],
      "execution_count": 217,
      "outputs": [
        {
          "output_type": "stream",
          "name": "stdout",
          "text": [
            "Enter the first number:20\n",
            "Enter the second numer:40\n",
            "The total of the numbers in between is 630\n"
          ]
        }
      ]
    }
  ]
}